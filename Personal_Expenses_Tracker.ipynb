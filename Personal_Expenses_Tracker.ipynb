{
  "nbformat": 4,
  "nbformat_minor": 0,
  "metadata": {
    "colab": {
      "provenance": []
    },
    "kernelspec": {
      "name": "python3",
      "display_name": "Python 3"
    },
    "language_info": {
      "name": "python"
    }
  },
  "cells": [
    {
      "cell_type": "markdown",
      "source": [
        "Persona Expenses Tracker"
      ],
      "metadata": {
        "id": "zxhnWt6YW-9z"
      }
    },
    {
      "cell_type": "code",
      "execution_count": 54,
      "metadata": {
        "id": "p4y8qJQCWYGF"
      },
      "outputs": [],
      "source": [
        "user = \"Maame\"\n",
        "current_month =\"August 2025\"\n",
        "currency ='$'\n",
        "budget = 500\n",
        "num_of_days_in_month = 30\n",
        "is_budget_set = True"
      ]
    },
    {
      "cell_type": "code",
      "source": [
        "print('Budget for',current_month,':',budget)"
      ],
      "metadata": {
        "colab": {
          "base_uri": "https://localhost:8080/"
        },
        "id": "LeW5wQcVdJUq",
        "outputId": "8485b7b3-5fcf-4931-f52f-bf5e3de606b1"
      },
      "execution_count": 55,
      "outputs": [
        {
          "output_type": "stream",
          "name": "stdout",
          "text": [
            "Budget for August 2025 : 500\n"
          ]
        }
      ]
    },
    {
      "cell_type": "markdown",
      "source": [
        "A Single Expense"
      ],
      "metadata": {
        "id": "Tr0zhUxId7tq"
      }
    },
    {
      "cell_type": "code",
      "source": [
        "item ='Rent'\n",
        "amount = 200\n",
        "category = 'Housing'\n",
        "is_necessary = True\n",
        "balance = budget - amount"
      ],
      "metadata": {
        "id": "H94-gc4Sd2Kc"
      },
      "execution_count": 16,
      "outputs": []
    },
    {
      "cell_type": "code",
      "source": [
        "items ='Rent','Electricity','Clothes','Data','Food','Netflix'\n",
        "prices = 200.00,40.00,50.00,20,10,15\n",
        "categories= 'housing','Utilities','Basic','Utilities','Food','Entertainment'\n",
        "necessary = True,True,True,True,False,False"
      ],
      "metadata": {
        "id": "90RfH_DbjYfa"
      },
      "execution_count": 56,
      "outputs": []
    },
    {
      "cell_type": "code",
      "source": [
        "prices[0]+prices[1]+prices[2]+prices[3]+prices[4]+prices[5]"
      ],
      "metadata": {
        "colab": {
          "base_uri": "https://localhost:8080/"
        },
        "id": "pfbf-VOZjYPS",
        "outputId": "7247c68e-3867-4437-9f5a-25b3c1866a5e"
      },
      "execution_count": 40,
      "outputs": [
        {
          "output_type": "execute_result",
          "data": {
            "text/plain": [
              "335.0"
            ]
          },
          "metadata": {},
          "execution_count": 40
        }
      ]
    },
    {
      "cell_type": "code",
      "source": [
        "total_expenses = sum(prices)"
      ],
      "metadata": {
        "id": "vx9A5lnYmXi2"
      },
      "execution_count": 57,
      "outputs": []
    },
    {
      "cell_type": "code",
      "source": [
        "balance = budget - total_expenses"
      ],
      "metadata": {
        "id": "HL4YwGe5nI8u"
      },
      "execution_count": 45,
      "outputs": []
    },
    {
      "cell_type": "code",
      "source": [
        "Num_of_items = len(items)"
      ],
      "metadata": {
        "id": "atj8yFT6nWi5"
      },
      "execution_count": 49,
      "outputs": []
    },
    {
      "cell_type": "code",
      "source": [
        "print(\"=\"*35)\n",
        "print(\"        Expenses Tracker\")\n",
        "print(\"=\"*35)\n",
        "print(\"owner\",'                 ',user)\n",
        "print(\"period\",'                ',current_month)\n",
        "print(\"-\"*35)\n",
        "print(\"currency\",'              ',currency)\n",
        "print(\"starting Balance\",'      ', budget)\n",
        "print(\"Total Expenses\",'        ',total_expenses)\n",
        "print(\"-\"*35)\n",
        "print(\"Closing balance\",'       ',balance)\n",
        "print(\"Transactions\",'          ',Num_of_items)\n",
        "print(\"=\"*35)\n",
        "print(\"      Honoured to serve you!\")\n",
        "print(\"=\"*35)"
      ],
      "metadata": {
        "colab": {
          "base_uri": "https://localhost:8080/"
        },
        "id": "Htdp7qO5d2u1",
        "outputId": "0c6cd08b-cab6-4219-9f4e-3dbd943c0fbd"
      },
      "execution_count": 58,
      "outputs": [
        {
          "output_type": "stream",
          "name": "stdout",
          "text": [
            "===================================\n",
            "        Expenses Tracker\n",
            "===================================\n",
            "owner                   Maame\n",
            "period                  August 2025\n",
            "-----------------------------------\n",
            "currency                $\n",
            "starting Balance        500\n",
            "Total Expenses          335.0\n",
            "-----------------------------------\n",
            "Closing balance         165.0\n",
            "Transactions            6\n",
            "===================================\n",
            "      Honoured to serve you!\n",
            "===================================\n"
          ]
        }
      ]
    }
  ]
}